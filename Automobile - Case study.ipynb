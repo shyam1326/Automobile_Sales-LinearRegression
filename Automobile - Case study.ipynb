{
 "cells": [
  {
   "cell_type": "markdown",
   "metadata": {},
   "source": [
    "# Automobile Sales prediction"
   ]
  },
  {
   "cell_type": "markdown",
   "metadata": {},
   "source": [
    "## BUSINESS CONTEXT:\n",
    "Business problem definition - One of major automobile company would like to design new product which gives high sales. Inorder to define the product, they want to understand and identify important drivers for the sales(what are the factors driving sales) and Predict the new car sales for given car model with defined factors.\n",
    "\n",
    "### Expectations from the Trainees:\n",
    "\n",
    "1.\tUnderstand the data & perform the data preparation before the model building\n",
    "2.\tPerform all the modeling steps including pre & post modeling steps like data preparation and implementation of the model\n",
    "3.\tUnderstand output and explain the model fit\n",
    "4.\tDetermine what is the \"best\" linear model?\n",
    "5.\tApply transformations to the given variables and find out the possible best model after transformations.\n",
    "6.\tGenerate the final equation\n",
    "7.\tValidate the model and present the results in Excel or PPT.\n",
    "\n",
    "#### DATA AVAILABLE:\n",
    "\tCar_sales.csv\n",
    "\n",
    "\n",
    "#### Description of the Variables:\n",
    "\n",
    "1.\tManufacturer - Car Manufacturer Name\n",
    "2.\tModel - Car Model Name\n",
    "3.\tSales_in_thousands - Car Sales in Thousands\n",
    "4.\t    year_resale_value - Resale value after 4 years\n",
    "5.\tVehicle_type - Type of car\n",
    "6.\tPrice_in_thousands - Price of the car\n",
    "7.\tEngine_size - Car Engine Size\n",
    "8.\tHorsepower - Car Horse power\n",
    "9.\tWheelbase - Car wheel base\n",
    "10.\tWidth - Car Width\n",
    "11.\tLength - Car Length\n",
    "12.\tCurb_weight - Car Curb Weight\n",
    "13.\tFuel_capacity - Fuel Capacity in liters\n",
    "14.\tFuel_efficiency - Fuel efficiency (kms/per liter)\n",
    "15.\tLatest_Launch - Car Model Launch Date\n",
    "16.\tPower_perf_factor - Power performance factor\n"
   ]
  },
  {
   "cell_type": "markdown",
   "metadata": {},
   "source": [
    "### Import the necessary libraries"
   ]
  },
  {
   "cell_type": "code",
   "execution_count": 1,
   "metadata": {},
   "outputs": [],
   "source": [
    "import numpy as np\n",
    "import pandas as pd\n",
    "import matplotlib.pyplot as plt\n",
    "import seaborn as sns\n",
    "import pandas_profiling\n",
    "from sklearn.model_selection import train_test_split\n",
    "import statsmodels.formula.api as smf\n",
    "from statsmodels.stats.outliers_influence import variance_inflation_factor\n",
    "from sklearn.feature_selection import f_oneway,f_regression,RFE,SelectKBest\n",
    "from sklearn.ensemble import RandomForestRegressor\n",
    "import itertools\n",
    "from sklearn.linear_model import LinearRegression"
   ]
  },
  {
   "cell_type": "markdown",
   "metadata": {},
   "source": [
    "### Import the dataset"
   ]
  },
  {
   "cell_type": "code",
   "execution_count": 2,
   "metadata": {},
   "outputs": [],
   "source": [
    "df = pd.read_csv('Car_sales.csv')"
   ]
  },
  {
   "cell_type": "markdown",
   "metadata": {},
   "source": [
    "### Data Understanding"
   ]
  },
  {
   "cell_type": "code",
   "execution_count": 3,
   "metadata": {},
   "outputs": [
    {
     "data": {
      "text/html": [
       "<div>\n",
       "<style scoped>\n",
       "    .dataframe tbody tr th:only-of-type {\n",
       "        vertical-align: middle;\n",
       "    }\n",
       "\n",
       "    .dataframe tbody tr th {\n",
       "        vertical-align: top;\n",
       "    }\n",
       "\n",
       "    .dataframe thead th {\n",
       "        text-align: right;\n",
       "    }\n",
       "</style>\n",
       "<table border=\"1\" class=\"dataframe\">\n",
       "  <thead>\n",
       "    <tr style=\"text-align: right;\">\n",
       "      <th></th>\n",
       "      <th>Manufacturer</th>\n",
       "      <th>Model</th>\n",
       "      <th>Sales_in_thousands</th>\n",
       "      <th>four_year_resale_value</th>\n",
       "      <th>Vehicle_type</th>\n",
       "      <th>Price_in_thousands</th>\n",
       "      <th>Engine_size</th>\n",
       "      <th>Horsepower</th>\n",
       "      <th>Wheelbase</th>\n",
       "      <th>Width</th>\n",
       "      <th>Length</th>\n",
       "      <th>Curb_weight</th>\n",
       "      <th>Fuel_capacity</th>\n",
       "      <th>Fuel_efficiency</th>\n",
       "      <th>Latest_Launch</th>\n",
       "      <th>Power_perf_factor</th>\n",
       "    </tr>\n",
       "  </thead>\n",
       "  <tbody>\n",
       "    <tr>\n",
       "      <th>0</th>\n",
       "      <td>Acura</td>\n",
       "      <td>Integra</td>\n",
       "      <td>16.919</td>\n",
       "      <td>16.360</td>\n",
       "      <td>Passenger</td>\n",
       "      <td>21.50</td>\n",
       "      <td>1.8</td>\n",
       "      <td>140.0</td>\n",
       "      <td>101.2</td>\n",
       "      <td>67.3</td>\n",
       "      <td>172.4</td>\n",
       "      <td>2.639</td>\n",
       "      <td>13.2</td>\n",
       "      <td>28.0</td>\n",
       "      <td>2/2/2012</td>\n",
       "      <td>58.280150</td>\n",
       "    </tr>\n",
       "    <tr>\n",
       "      <th>1</th>\n",
       "      <td>Acura</td>\n",
       "      <td>TL</td>\n",
       "      <td>39.384</td>\n",
       "      <td>19.875</td>\n",
       "      <td>Passenger</td>\n",
       "      <td>28.40</td>\n",
       "      <td>3.2</td>\n",
       "      <td>225.0</td>\n",
       "      <td>108.1</td>\n",
       "      <td>70.3</td>\n",
       "      <td>192.9</td>\n",
       "      <td>3.517</td>\n",
       "      <td>17.2</td>\n",
       "      <td>25.0</td>\n",
       "      <td>6/3/2011</td>\n",
       "      <td>91.370778</td>\n",
       "    </tr>\n",
       "    <tr>\n",
       "      <th>2</th>\n",
       "      <td>Acura</td>\n",
       "      <td>CL</td>\n",
       "      <td>14.114</td>\n",
       "      <td>18.225</td>\n",
       "      <td>Passenger</td>\n",
       "      <td>NaN</td>\n",
       "      <td>3.2</td>\n",
       "      <td>225.0</td>\n",
       "      <td>106.9</td>\n",
       "      <td>70.6</td>\n",
       "      <td>192.0</td>\n",
       "      <td>3.470</td>\n",
       "      <td>17.2</td>\n",
       "      <td>26.0</td>\n",
       "      <td>1/4/2012</td>\n",
       "      <td>NaN</td>\n",
       "    </tr>\n",
       "    <tr>\n",
       "      <th>3</th>\n",
       "      <td>Acura</td>\n",
       "      <td>RL</td>\n",
       "      <td>8.588</td>\n",
       "      <td>29.725</td>\n",
       "      <td>Passenger</td>\n",
       "      <td>42.00</td>\n",
       "      <td>3.5</td>\n",
       "      <td>210.0</td>\n",
       "      <td>114.6</td>\n",
       "      <td>71.4</td>\n",
       "      <td>196.6</td>\n",
       "      <td>3.850</td>\n",
       "      <td>18.0</td>\n",
       "      <td>22.0</td>\n",
       "      <td>3/10/2011</td>\n",
       "      <td>91.389779</td>\n",
       "    </tr>\n",
       "    <tr>\n",
       "      <th>4</th>\n",
       "      <td>Audi</td>\n",
       "      <td>A4</td>\n",
       "      <td>20.397</td>\n",
       "      <td>22.255</td>\n",
       "      <td>Passenger</td>\n",
       "      <td>23.99</td>\n",
       "      <td>1.8</td>\n",
       "      <td>150.0</td>\n",
       "      <td>102.6</td>\n",
       "      <td>68.2</td>\n",
       "      <td>178.0</td>\n",
       "      <td>2.998</td>\n",
       "      <td>16.4</td>\n",
       "      <td>27.0</td>\n",
       "      <td>10/8/2011</td>\n",
       "      <td>62.777639</td>\n",
       "    </tr>\n",
       "  </tbody>\n",
       "</table>\n",
       "</div>"
      ],
      "text/plain": [
       "  Manufacturer    Model  Sales_in_thousands  four_year_resale_value  \\\n",
       "0        Acura  Integra              16.919                  16.360   \n",
       "1        Acura       TL              39.384                  19.875   \n",
       "2        Acura       CL              14.114                  18.225   \n",
       "3        Acura       RL               8.588                  29.725   \n",
       "4         Audi       A4              20.397                  22.255   \n",
       "\n",
       "  Vehicle_type  Price_in_thousands  Engine_size  Horsepower  Wheelbase  Width  \\\n",
       "0    Passenger               21.50          1.8       140.0      101.2   67.3   \n",
       "1    Passenger               28.40          3.2       225.0      108.1   70.3   \n",
       "2    Passenger                 NaN          3.2       225.0      106.9   70.6   \n",
       "3    Passenger               42.00          3.5       210.0      114.6   71.4   \n",
       "4    Passenger               23.99          1.8       150.0      102.6   68.2   \n",
       "\n",
       "   Length  Curb_weight  Fuel_capacity  Fuel_efficiency Latest_Launch  \\\n",
       "0   172.4        2.639           13.2             28.0      2/2/2012   \n",
       "1   192.9        3.517           17.2             25.0      6/3/2011   \n",
       "2   192.0        3.470           17.2             26.0      1/4/2012   \n",
       "3   196.6        3.850           18.0             22.0     3/10/2011   \n",
       "4   178.0        2.998           16.4             27.0     10/8/2011   \n",
       "\n",
       "   Power_perf_factor  \n",
       "0          58.280150  \n",
       "1          91.370778  \n",
       "2                NaN  \n",
       "3          91.389779  \n",
       "4          62.777639  "
      ]
     },
     "execution_count": 3,
     "metadata": {},
     "output_type": "execute_result"
    }
   ],
   "source": [
    "df.head()"
   ]
  },
  {
   "cell_type": "code",
   "execution_count": 4,
   "metadata": {
    "scrolled": true
   },
   "outputs": [
    {
     "data": {
      "text/plain": [
       "(157, 16)"
      ]
     },
     "execution_count": 4,
     "metadata": {},
     "output_type": "execute_result"
    }
   ],
   "source": [
    "df.shape"
   ]
  },
  {
   "cell_type": "code",
   "execution_count": 5,
   "metadata": {},
   "outputs": [
    {
     "name": "stdout",
     "output_type": "stream",
     "text": [
      "<class 'pandas.core.frame.DataFrame'>\n",
      "RangeIndex: 157 entries, 0 to 156\n",
      "Data columns (total 16 columns):\n",
      " #   Column                  Non-Null Count  Dtype  \n",
      "---  ------                  --------------  -----  \n",
      " 0   Manufacturer            157 non-null    object \n",
      " 1   Model                   157 non-null    object \n",
      " 2   Sales_in_thousands      157 non-null    float64\n",
      " 3   four_year_resale_value  121 non-null    float64\n",
      " 4   Vehicle_type            157 non-null    object \n",
      " 5   Price_in_thousands      155 non-null    float64\n",
      " 6   Engine_size             156 non-null    float64\n",
      " 7   Horsepower              156 non-null    float64\n",
      " 8   Wheelbase               156 non-null    float64\n",
      " 9   Width                   156 non-null    float64\n",
      " 10  Length                  156 non-null    float64\n",
      " 11  Curb_weight             155 non-null    float64\n",
      " 12  Fuel_capacity           156 non-null    float64\n",
      " 13  Fuel_efficiency         154 non-null    float64\n",
      " 14  Latest_Launch           157 non-null    object \n",
      " 15  Power_perf_factor       155 non-null    float64\n",
      "dtypes: float64(12), object(4)\n",
      "memory usage: 19.8+ KB\n"
     ]
    }
   ],
   "source": [
    "df.info()"
   ]
  },
  {
   "cell_type": "code",
   "execution_count": 6,
   "metadata": {
    "scrolled": false
   },
   "outputs": [],
   "source": [
    "report = pandas_profiling.ProfileReport(df)\n",
    "#report.to_file('report.html')"
   ]
  },
  {
   "cell_type": "markdown",
   "metadata": {},
   "source": [
    "### Data Visualization"
   ]
  },
  {
   "cell_type": "code",
   "execution_count": 7,
   "metadata": {},
   "outputs": [],
   "source": [
    "# Drop unique values and multicolinearity\n",
    "df.drop(['Model', 'Latest_Launch' ],axis = 1, inplace = True)"
   ]
  },
  {
   "cell_type": "code",
   "execution_count": 8,
   "metadata": {
    "scrolled": false
   },
   "outputs": [],
   "source": [
    "# sns.pairplot(df)\n",
    "# plt.show()"
   ]
  },
  {
   "cell_type": "code",
   "execution_count": 9,
   "metadata": {},
   "outputs": [
    {
     "data": {
      "image/png": "[encoded data removed]",
      "text/plain": [
       "<Figure size 576x396 with 2 Axes>"
      ]
     },
     "metadata": {},
     "output_type": "display_data"
    }
   ],
   "source": [
    "cor = df.corr()\n",
    "sns.heatmap(cor, annot=True, fmt = '.2f')\n",
    "plt.show()"
   ]
  },
  {
   "cell_type": "code",
   "execution_count": 10,
   "metadata": {},
   "outputs": [],
   "source": [
    "# Drop  multicolinearity(cutoff is 0.8)\n",
    "df.drop(['four_year_resale_value', 'Horsepower', 'Engine_size', 'Power_perf_factor', 'Fuel_efficiency', 'Curb_weight' ],axis = 1, inplace = True)"
   ]
  },
  {
   "cell_type": "code",
   "execution_count": 11,
   "metadata": {},
   "outputs": [
    {
     "data": {
      "image/png": "[encoded data removed]",
      "text/plain": [
       "<Figure size 576x396 with 1 Axes>"
      ]
     },
     "metadata": {},
     "output_type": "display_data"
    }
   ],
   "source": [
    "plt.bar(x = 'Vehicle_type', height = 'Sales_in_thousands',data = df, color = 'skyblue')\n",
    "plt.title('sales vs vehicle type')\n",
    "plt.xlabel('Vehicle type')\n",
    "plt.ylabel('Sales in thousands')\n",
    "plt.show()"
   ]
  },
  {
   "cell_type": "code",
   "execution_count": 12,
   "metadata": {},
   "outputs": [
    {
     "data": {
      "image/png": "[encoded data removed]",
      "text/plain": [
       "<Figure size 720x576 with 1 Axes>"
      ]
     },
     "metadata": {},
     "output_type": "display_data"
    }
   ],
   "source": [
    "plt.figure(figsize=(10,8))\n",
    "plt.barh(y = 'Manufacturer', width = 'Sales_in_thousands' ,data = df, color = 'green')\n",
    "plt.title('sales vs vehicle type')\n",
    "plt.ylabel('Manufacturer')\n",
    "plt.xlabel('Sales in thousands')\n",
    "plt.show()"
   ]
  },
  {
   "cell_type": "code",
   "execution_count": 13,
   "metadata": {},
   "outputs": [
    {
     "name": "stderr",
     "output_type": "stream",
     "text": [
      "C:\\Users\\Shyam prasath\\anaconda3\\lib\\site-packages\\ipykernel_launcher.py:1: SettingWithCopyWarning: \n",
      "A value is trying to be set on a copy of a slice from a DataFrame\n",
      "\n",
      "See the caveats in the documentation: https://pandas.pydata.org/pandas-docs/stable/user_guide/indexing.html#returning-a-view-versus-a-copy\n",
      "  \"\"\"Entry point for launching an IPython kernel.\n"
     ]
    }
   ],
   "source": [
    "df.Manufacturer[df.Manufacturer == 'Mercedes-B'] = 'Mercedes'"
   ]
  },
  {
   "cell_type": "markdown",
   "metadata": {},
   "source": [
    "### Data preprocessing"
   ]
  },
  {
   "cell_type": "code",
   "execution_count": 14,
   "metadata": {},
   "outputs": [],
   "source": [
    "# Seperate cat and cont variables\n",
    "df_cat = df.select_dtypes(include = 'object')\n",
    "df_num = df.select_dtypes(exclude = 'object')"
   ]
  },
  {
   "cell_type": "code",
   "execution_count": 15,
   "metadata": {},
   "outputs": [
    {
     "data": {
      "text/plain": [
       "Manufacturer    0\n",
       "Vehicle_type    0\n",
       "dtype: int64"
      ]
     },
     "execution_count": 15,
     "metadata": {},
     "output_type": "execute_result"
    }
   ],
   "source": [
    "df_cat.isnull().sum()"
   ]
  },
  {
   "cell_type": "code",
   "execution_count": 16,
   "metadata": {
    "scrolled": false
   },
   "outputs": [
    {
     "data": {
      "text/plain": [
       "Ford          11\n",
       "Dodge         11\n",
       "Mercedes       9\n",
       "Chevrolet      9\n",
       "Toyota         9\n",
       "Chrysler       7\n",
       "Mitsubishi     7\n",
       "Nissan         7\n",
       "Lexus          6\n",
       "Volkswagen     6\n",
       "Pontiac        6\n",
       "Mercury        6\n",
       "Volvo          6\n",
       "Oldsmobile     6\n",
       "Saturn         5\n",
       "Cadillac       5\n",
       "Honda          5\n",
       "Plymouth       4\n",
       "Acura          4\n",
       "Buick          4\n",
       "Porsche        3\n",
       "Audi           3\n",
       "BMW            3\n",
       "Jeep           3\n",
       "Lincoln        3\n",
       "Hyundai        3\n",
       "Subaru         2\n",
       "Saab           2\n",
       "Infiniti       1\n",
       "Jaguar         1\n",
       "Name: Manufacturer, dtype: int64"
      ]
     },
     "execution_count": 16,
     "metadata": {},
     "output_type": "execute_result"
    }
   ],
   "source": [
    "df_cat.Manufacturer.value_counts()"
   ]
  },
  {
   "cell_type": "code",
   "execution_count": 17,
   "metadata": {},
   "outputs": [],
   "source": [
    "# def binning(x):\n",
    "#     if x['Manufacturer']  in ['Dodge']:\n",
    "#         return 'Dodge'\n",
    "#     elif x['Manufacturer']  in ['Ford']:\n",
    "#         return 'Ford'\n",
    "#     elif x['Manufacturer']  in ['Toyota']:\n",
    "#         return 'Toyota'\n",
    "#     elif x['Manufacturer']  in ['Mercedes-B']:\n",
    "#         return 'Mercedes_B'\n",
    "#     elif x['Manufacturer']  in ['Chevrolet']:\n",
    "#         return 'Chevrolet'\n",
    "#     else:\n",
    "#         return 'others'\n",
    "\n",
    "\n",
    "# df_cat['Manufacturer'] = df_cat.apply(binning, axis = 1)"
   ]
  },
  {
   "cell_type": "code",
   "execution_count": 18,
   "metadata": {
    "scrolled": true
   },
   "outputs": [
    {
     "data": {
      "text/plain": [
       "Sales_in_thousands    0\n",
       "Price_in_thousands    2\n",
       "Wheelbase             1\n",
       "Width                 1\n",
       "Length                1\n",
       "Fuel_capacity         1\n",
       "dtype: int64"
      ]
     },
     "execution_count": 18,
     "metadata": {},
     "output_type": "execute_result"
    }
   ],
   "source": [
    "df_num.isnull().sum()"
   ]
  },
  {
   "cell_type": "code",
   "execution_count": 19,
   "metadata": {},
   "outputs": [],
   "source": [
    "def missing(x):\n",
    "    x = x.fillna(x.std())\n",
    "    return x\n",
    "\n",
    "df_num = df_num.apply(missing)"
   ]
  },
  {
   "cell_type": "code",
   "execution_count": 20,
   "metadata": {},
   "outputs": [
    {
     "data": {
      "text/html": [
       "<div>\n",
       "<style scoped>\n",
       "    .dataframe tbody tr th:only-of-type {\n",
       "        vertical-align: middle;\n",
       "    }\n",
       "\n",
       "    .dataframe tbody tr th {\n",
       "        vertical-align: top;\n",
       "    }\n",
       "\n",
       "    .dataframe thead th {\n",
       "        text-align: right;\n",
       "    }\n",
       "</style>\n",
       "<table border=\"1\" class=\"dataframe\">\n",
       "  <thead>\n",
       "    <tr style=\"text-align: right;\">\n",
       "      <th></th>\n",
       "      <th>count</th>\n",
       "      <th>mean</th>\n",
       "      <th>std</th>\n",
       "      <th>min</th>\n",
       "      <th>25%</th>\n",
       "      <th>50%</th>\n",
       "      <th>75%</th>\n",
       "      <th>max</th>\n",
       "    </tr>\n",
       "  </thead>\n",
       "  <tbody>\n",
       "    <tr>\n",
       "      <th>Sales_in_thousands</th>\n",
       "      <td>157.0</td>\n",
       "      <td>52.998076</td>\n",
       "      <td>68.029422</td>\n",
       "      <td>0.110000</td>\n",
       "      <td>14.114</td>\n",
       "      <td>29.450</td>\n",
       "      <td>67.956</td>\n",
       "      <td>540.561</td>\n",
       "    </tr>\n",
       "    <tr>\n",
       "      <th>Price_in_thousands</th>\n",
       "      <td>157.0</td>\n",
       "      <td>27.224652</td>\n",
       "      <td>14.334618</td>\n",
       "      <td>9.235000</td>\n",
       "      <td>17.885</td>\n",
       "      <td>22.695</td>\n",
       "      <td>31.930</td>\n",
       "      <td>85.500</td>\n",
       "    </tr>\n",
       "    <tr>\n",
       "      <th>Wheelbase</th>\n",
       "      <td>157.0</td>\n",
       "      <td>106.851218</td>\n",
       "      <td>11.023307</td>\n",
       "      <td>7.641303</td>\n",
       "      <td>103.000</td>\n",
       "      <td>107.000</td>\n",
       "      <td>112.200</td>\n",
       "      <td>138.700</td>\n",
       "    </tr>\n",
       "    <tr>\n",
       "      <th>Width</th>\n",
       "      <td>157.0</td>\n",
       "      <td>70.718802</td>\n",
       "      <td>6.405494</td>\n",
       "      <td>3.451872</td>\n",
       "      <td>68.400</td>\n",
       "      <td>70.500</td>\n",
       "      <td>73.400</td>\n",
       "      <td>79.900</td>\n",
       "    </tr>\n",
       "    <tr>\n",
       "      <th>Length</th>\n",
       "      <td>157.0</td>\n",
       "      <td>186.235871</td>\n",
       "      <td>19.284733</td>\n",
       "      <td>13.431754</td>\n",
       "      <td>177.500</td>\n",
       "      <td>187.800</td>\n",
       "      <td>196.100</td>\n",
       "      <td>224.500</td>\n",
       "    </tr>\n",
       "    <tr>\n",
       "      <th>Fuel_capacity</th>\n",
       "      <td>157.0</td>\n",
       "      <td>17.862343</td>\n",
       "      <td>4.034710</td>\n",
       "      <td>3.887921</td>\n",
       "      <td>15.800</td>\n",
       "      <td>17.200</td>\n",
       "      <td>19.500</td>\n",
       "      <td>32.000</td>\n",
       "    </tr>\n",
       "  </tbody>\n",
       "</table>\n",
       "</div>"
      ],
      "text/plain": [
       "                    count        mean        std        min      25%      50%  \\\n",
       "Sales_in_thousands  157.0   52.998076  68.029422   0.110000   14.114   29.450   \n",
       "Price_in_thousands  157.0   27.224652  14.334618   9.235000   17.885   22.695   \n",
       "Wheelbase           157.0  106.851218  11.023307   7.641303  103.000  107.000   \n",
       "Width               157.0   70.718802   6.405494   3.451872   68.400   70.500   \n",
       "Length              157.0  186.235871  19.284733  13.431754  177.500  187.800   \n",
       "Fuel_capacity       157.0   17.862343   4.034710   3.887921   15.800   17.200   \n",
       "\n",
       "                        75%      max  \n",
       "Sales_in_thousands   67.956  540.561  \n",
       "Price_in_thousands   31.930   85.500  \n",
       "Wheelbase           112.200  138.700  \n",
       "Width                73.400   79.900  \n",
       "Length              196.100  224.500  \n",
       "Fuel_capacity        19.500   32.000  "
      ]
     },
     "execution_count": 20,
     "metadata": {},
     "output_type": "execute_result"
    }
   ],
   "source": [
    "df_num.describe().T"
   ]
  },
  {
   "cell_type": "code",
   "execution_count": 21,
   "metadata": {},
   "outputs": [],
   "source": [
    "def summary(x):\n",
    "    return pd.Series([x.count(), x.mean(), x.median(), x.std(), x.min(), x.quantile(0.95), x.quantile(0.99), x.max()], \n",
    "                     index = ['count', 'mean', 'median', 'std', 'min', '95%', '99%', 'max'])"
   ]
  },
  {
   "cell_type": "code",
   "execution_count": 22,
   "metadata": {},
   "outputs": [
    {
     "data": {
      "text/html": [
       "<div>\n",
       "<style scoped>\n",
       "    .dataframe tbody tr th:only-of-type {\n",
       "        vertical-align: middle;\n",
       "    }\n",
       "\n",
       "    .dataframe tbody tr th {\n",
       "        vertical-align: top;\n",
       "    }\n",
       "\n",
       "    .dataframe thead th {\n",
       "        text-align: right;\n",
       "    }\n",
       "</style>\n",
       "<table border=\"1\" class=\"dataframe\">\n",
       "  <thead>\n",
       "    <tr style=\"text-align: right;\">\n",
       "      <th></th>\n",
       "      <th>count</th>\n",
       "      <th>mean</th>\n",
       "      <th>median</th>\n",
       "      <th>std</th>\n",
       "      <th>min</th>\n",
       "      <th>95%</th>\n",
       "      <th>99%</th>\n",
       "      <th>max</th>\n",
       "    </tr>\n",
       "  </thead>\n",
       "  <tbody>\n",
       "    <tr>\n",
       "      <th>Sales_in_thousands</th>\n",
       "      <td>157.0</td>\n",
       "      <td>52.998076</td>\n",
       "      <td>29.450</td>\n",
       "      <td>68.029422</td>\n",
       "      <td>0.110000</td>\n",
       "      <td>185.3362</td>\n",
       "      <td>260.64532</td>\n",
       "      <td>540.561</td>\n",
       "    </tr>\n",
       "    <tr>\n",
       "      <th>Price_in_thousands</th>\n",
       "      <td>157.0</td>\n",
       "      <td>27.224652</td>\n",
       "      <td>22.695</td>\n",
       "      <td>14.334618</td>\n",
       "      <td>9.235000</td>\n",
       "      <td>55.2250</td>\n",
       "      <td>78.32720</td>\n",
       "      <td>85.500</td>\n",
       "    </tr>\n",
       "    <tr>\n",
       "      <th>Wheelbase</th>\n",
       "      <td>157.0</td>\n",
       "      <td>106.851218</td>\n",
       "      <td>107.000</td>\n",
       "      <td>11.023307</td>\n",
       "      <td>7.641303</td>\n",
       "      <td>119.2000</td>\n",
       "      <td>134.30000</td>\n",
       "      <td>138.700</td>\n",
       "    </tr>\n",
       "    <tr>\n",
       "      <th>Width</th>\n",
       "      <td>157.0</td>\n",
       "      <td>70.718802</td>\n",
       "      <td>70.500</td>\n",
       "      <td>6.405494</td>\n",
       "      <td>3.451872</td>\n",
       "      <td>78.2000</td>\n",
       "      <td>79.18800</td>\n",
       "      <td>79.900</td>\n",
       "    </tr>\n",
       "    <tr>\n",
       "      <th>Length</th>\n",
       "      <td>157.0</td>\n",
       "      <td>186.235871</td>\n",
       "      <td>187.800</td>\n",
       "      <td>19.284733</td>\n",
       "      <td>13.431754</td>\n",
       "      <td>208.5000</td>\n",
       "      <td>219.21600</td>\n",
       "      <td>224.500</td>\n",
       "    </tr>\n",
       "    <tr>\n",
       "      <th>Fuel_capacity</th>\n",
       "      <td>157.0</td>\n",
       "      <td>17.862343</td>\n",
       "      <td>17.200</td>\n",
       "      <td>4.034710</td>\n",
       "      <td>3.887921</td>\n",
       "      <td>25.4000</td>\n",
       "      <td>30.88000</td>\n",
       "      <td>32.000</td>\n",
       "    </tr>\n",
       "  </tbody>\n",
       "</table>\n",
       "</div>"
      ],
      "text/plain": [
       "                    count        mean   median        std        min  \\\n",
       "Sales_in_thousands  157.0   52.998076   29.450  68.029422   0.110000   \n",
       "Price_in_thousands  157.0   27.224652   22.695  14.334618   9.235000   \n",
       "Wheelbase           157.0  106.851218  107.000  11.023307   7.641303   \n",
       "Width               157.0   70.718802   70.500   6.405494   3.451872   \n",
       "Length              157.0  186.235871  187.800  19.284733  13.431754   \n",
       "Fuel_capacity       157.0   17.862343   17.200   4.034710   3.887921   \n",
       "\n",
       "                         95%        99%      max  \n",
       "Sales_in_thousands  185.3362  260.64532  540.561  \n",
       "Price_in_thousands   55.2250   78.32720   85.500  \n",
       "Wheelbase           119.2000  134.30000  138.700  \n",
       "Width                78.2000   79.18800   79.900  \n",
       "Length              208.5000  219.21600  224.500  \n",
       "Fuel_capacity        25.4000   30.88000   32.000  "
      ]
     },
     "execution_count": 22,
     "metadata": {},
     "output_type": "execute_result"
    }
   ],
   "source": [
    "df_num.apply(summary).T"
   ]
  },
  {
   "cell_type": "code",
   "execution_count": 23,
   "metadata": {},
   "outputs": [],
   "source": [
    "def outliers(x):\n",
    "    x = x.clip(upper = x.quantile(0.99))\n",
    "    x = x.clip(lower = x.quantile(0.01))\n",
    "    return x"
   ]
  },
  {
   "cell_type": "code",
   "execution_count": 24,
   "metadata": {},
   "outputs": [],
   "source": [
    "df_num = df_num.apply(outliers)"
   ]
  },
  {
   "cell_type": "code",
   "execution_count": 25,
   "metadata": {},
   "outputs": [],
   "source": [
    "df2 = pd.concat([df_num, df_cat], axis = 1)"
   ]
  },
  {
   "cell_type": "code",
   "execution_count": 26,
   "metadata": {},
   "outputs": [
    {
     "data": {
      "text/html": [
       "<div>\n",
       "<style scoped>\n",
       "    .dataframe tbody tr th:only-of-type {\n",
       "        vertical-align: middle;\n",
       "    }\n",
       "\n",
       "    .dataframe tbody tr th {\n",
       "        vertical-align: top;\n",
       "    }\n",
       "\n",
       "    .dataframe thead th {\n",
       "        text-align: right;\n",
       "    }\n",
       "</style>\n",
       "<table border=\"1\" class=\"dataframe\">\n",
       "  <thead>\n",
       "    <tr style=\"text-align: right;\">\n",
       "      <th></th>\n",
       "      <th>Sales_in_thousands</th>\n",
       "      <th>Price_in_thousands</th>\n",
       "      <th>Wheelbase</th>\n",
       "      <th>Width</th>\n",
       "      <th>Length</th>\n",
       "      <th>Fuel_capacity</th>\n",
       "      <th>Manufacturer</th>\n",
       "      <th>Vehicle_type</th>\n",
       "    </tr>\n",
       "  </thead>\n",
       "  <tbody>\n",
       "    <tr>\n",
       "      <th>0</th>\n",
       "      <td>16.919</td>\n",
       "      <td>21.500000</td>\n",
       "      <td>101.2</td>\n",
       "      <td>67.3</td>\n",
       "      <td>172.4</td>\n",
       "      <td>13.2</td>\n",
       "      <td>Acura</td>\n",
       "      <td>Passenger</td>\n",
       "    </tr>\n",
       "    <tr>\n",
       "      <th>1</th>\n",
       "      <td>39.384</td>\n",
       "      <td>28.400000</td>\n",
       "      <td>108.1</td>\n",
       "      <td>70.3</td>\n",
       "      <td>192.9</td>\n",
       "      <td>17.2</td>\n",
       "      <td>Acura</td>\n",
       "      <td>Passenger</td>\n",
       "    </tr>\n",
       "    <tr>\n",
       "      <th>2</th>\n",
       "      <td>14.114</td>\n",
       "      <td>14.351653</td>\n",
       "      <td>106.9</td>\n",
       "      <td>70.6</td>\n",
       "      <td>192.0</td>\n",
       "      <td>17.2</td>\n",
       "      <td>Acura</td>\n",
       "      <td>Passenger</td>\n",
       "    </tr>\n",
       "    <tr>\n",
       "      <th>3</th>\n",
       "      <td>8.588</td>\n",
       "      <td>42.000000</td>\n",
       "      <td>114.6</td>\n",
       "      <td>71.4</td>\n",
       "      <td>196.6</td>\n",
       "      <td>18.0</td>\n",
       "      <td>Acura</td>\n",
       "      <td>Passenger</td>\n",
       "    </tr>\n",
       "    <tr>\n",
       "      <th>4</th>\n",
       "      <td>20.397</td>\n",
       "      <td>23.990000</td>\n",
       "      <td>102.6</td>\n",
       "      <td>68.2</td>\n",
       "      <td>178.0</td>\n",
       "      <td>16.4</td>\n",
       "      <td>Audi</td>\n",
       "      <td>Passenger</td>\n",
       "    </tr>\n",
       "  </tbody>\n",
       "</table>\n",
       "</div>"
      ],
      "text/plain": [
       "   Sales_in_thousands  Price_in_thousands  Wheelbase  Width  Length  \\\n",
       "0              16.919           21.500000      101.2   67.3   172.4   \n",
       "1              39.384           28.400000      108.1   70.3   192.9   \n",
       "2              14.114           14.351653      106.9   70.6   192.0   \n",
       "3               8.588           42.000000      114.6   71.4   196.6   \n",
       "4              20.397           23.990000      102.6   68.2   178.0   \n",
       "\n",
       "   Fuel_capacity Manufacturer Vehicle_type  \n",
       "0           13.2        Acura    Passenger  \n",
       "1           17.2        Acura    Passenger  \n",
       "2           17.2        Acura    Passenger  \n",
       "3           18.0        Acura    Passenger  \n",
       "4           16.4         Audi    Passenger  "
      ]
     },
     "execution_count": 26,
     "metadata": {},
     "output_type": "execute_result"
    }
   ],
   "source": [
    "df2.head()"
   ]
  },
  {
   "cell_type": "markdown",
   "metadata": {},
   "source": [
    "### convert cat cols into dummies"
   ]
  },
  {
   "cell_type": "code",
   "execution_count": 27,
   "metadata": {},
   "outputs": [],
   "source": [
    "df2 = pd.get_dummies(df2, ['Manufacturer', 'Vehicle_type'], drop_first=True)"
   ]
  },
  {
   "cell_type": "code",
   "execution_count": 28,
   "metadata": {},
   "outputs": [
    {
     "data": {
      "text/html": [
       "<div>\n",
       "<style scoped>\n",
       "    .dataframe tbody tr th:only-of-type {\n",
       "        vertical-align: middle;\n",
       "    }\n",
       "\n",
       "    .dataframe tbody tr th {\n",
       "        vertical-align: top;\n",
       "    }\n",
       "\n",
       "    .dataframe thead th {\n",
       "        text-align: right;\n",
       "    }\n",
       "</style>\n",
       "<table border=\"1\" class=\"dataframe\">\n",
       "  <thead>\n",
       "    <tr style=\"text-align: right;\">\n",
       "      <th></th>\n",
       "      <th>Sales_in_thousands</th>\n",
       "      <th>Price_in_thousands</th>\n",
       "      <th>Wheelbase</th>\n",
       "      <th>Width</th>\n",
       "      <th>Length</th>\n",
       "      <th>Fuel_capacity</th>\n",
       "      <th>Manufacturer_Audi</th>\n",
       "      <th>Manufacturer_BMW</th>\n",
       "      <th>Manufacturer_Buick</th>\n",
       "      <th>Manufacturer_Cadillac</th>\n",
       "      <th>...</th>\n",
       "      <th>Manufacturer_Plymouth</th>\n",
       "      <th>Manufacturer_Pontiac</th>\n",
       "      <th>Manufacturer_Porsche</th>\n",
       "      <th>Manufacturer_Saab</th>\n",
       "      <th>Manufacturer_Saturn</th>\n",
       "      <th>Manufacturer_Subaru</th>\n",
       "      <th>Manufacturer_Toyota</th>\n",
       "      <th>Manufacturer_Volkswagen</th>\n",
       "      <th>Manufacturer_Volvo</th>\n",
       "      <th>Vehicle_type_Passenger</th>\n",
       "    </tr>\n",
       "  </thead>\n",
       "  <tbody>\n",
       "    <tr>\n",
       "      <th>0</th>\n",
       "      <td>16.919</td>\n",
       "      <td>21.500000</td>\n",
       "      <td>101.2</td>\n",
       "      <td>67.3</td>\n",
       "      <td>172.4</td>\n",
       "      <td>13.2</td>\n",
       "      <td>0</td>\n",
       "      <td>0</td>\n",
       "      <td>0</td>\n",
       "      <td>0</td>\n",
       "      <td>...</td>\n",
       "      <td>0</td>\n",
       "      <td>0</td>\n",
       "      <td>0</td>\n",
       "      <td>0</td>\n",
       "      <td>0</td>\n",
       "      <td>0</td>\n",
       "      <td>0</td>\n",
       "      <td>0</td>\n",
       "      <td>0</td>\n",
       "      <td>1</td>\n",
       "    </tr>\n",
       "    <tr>\n",
       "      <th>1</th>\n",
       "      <td>39.384</td>\n",
       "      <td>28.400000</td>\n",
       "      <td>108.1</td>\n",
       "      <td>70.3</td>\n",
       "      <td>192.9</td>\n",
       "      <td>17.2</td>\n",
       "      <td>0</td>\n",
       "      <td>0</td>\n",
       "      <td>0</td>\n",
       "      <td>0</td>\n",
       "      <td>...</td>\n",
       "      <td>0</td>\n",
       "      <td>0</td>\n",
       "      <td>0</td>\n",
       "      <td>0</td>\n",
       "      <td>0</td>\n",
       "      <td>0</td>\n",
       "      <td>0</td>\n",
       "      <td>0</td>\n",
       "      <td>0</td>\n",
       "      <td>1</td>\n",
       "    </tr>\n",
       "    <tr>\n",
       "      <th>2</th>\n",
       "      <td>14.114</td>\n",
       "      <td>14.351653</td>\n",
       "      <td>106.9</td>\n",
       "      <td>70.6</td>\n",
       "      <td>192.0</td>\n",
       "      <td>17.2</td>\n",
       "      <td>0</td>\n",
       "      <td>0</td>\n",
       "      <td>0</td>\n",
       "      <td>0</td>\n",
       "      <td>...</td>\n",
       "      <td>0</td>\n",
       "      <td>0</td>\n",
       "      <td>0</td>\n",
       "      <td>0</td>\n",
       "      <td>0</td>\n",
       "      <td>0</td>\n",
       "      <td>0</td>\n",
       "      <td>0</td>\n",
       "      <td>0</td>\n",
       "      <td>1</td>\n",
       "    </tr>\n",
       "    <tr>\n",
       "      <th>3</th>\n",
       "      <td>8.588</td>\n",
       "      <td>42.000000</td>\n",
       "      <td>114.6</td>\n",
       "      <td>71.4</td>\n",
       "      <td>196.6</td>\n",
       "      <td>18.0</td>\n",
       "      <td>0</td>\n",
       "      <td>0</td>\n",
       "      <td>0</td>\n",
       "      <td>0</td>\n",
       "      <td>...</td>\n",
       "      <td>0</td>\n",
       "      <td>0</td>\n",
       "      <td>0</td>\n",
       "      <td>0</td>\n",
       "      <td>0</td>\n",
       "      <td>0</td>\n",
       "      <td>0</td>\n",
       "      <td>0</td>\n",
       "      <td>0</td>\n",
       "      <td>1</td>\n",
       "    </tr>\n",
       "    <tr>\n",
       "      <th>4</th>\n",
       "      <td>20.397</td>\n",
       "      <td>23.990000</td>\n",
       "      <td>102.6</td>\n",
       "      <td>68.2</td>\n",
       "      <td>178.0</td>\n",
       "      <td>16.4</td>\n",
       "      <td>1</td>\n",
       "      <td>0</td>\n",
       "      <td>0</td>\n",
       "      <td>0</td>\n",
       "      <td>...</td>\n",
       "      <td>0</td>\n",
       "      <td>0</td>\n",
       "      <td>0</td>\n",
       "      <td>0</td>\n",
       "      <td>0</td>\n",
       "      <td>0</td>\n",
       "      <td>0</td>\n",
       "      <td>0</td>\n",
       "      <td>0</td>\n",
       "      <td>1</td>\n",
       "    </tr>\n",
       "  </tbody>\n",
       "</table>\n",
       "<p>5 rows × 36 columns</p>\n",
       "</div>"
      ],
      "text/plain": [
       "   Sales_in_thousands  Price_in_thousands  Wheelbase  Width  Length  \\\n",
       "0              16.919           21.500000      101.2   67.3   172.4   \n",
       "1              39.384           28.400000      108.1   70.3   192.9   \n",
       "2              14.114           14.351653      106.9   70.6   192.0   \n",
       "3               8.588           42.000000      114.6   71.4   196.6   \n",
       "4              20.397           23.990000      102.6   68.2   178.0   \n",
       "\n",
       "   Fuel_capacity  Manufacturer_Audi  Manufacturer_BMW  Manufacturer_Buick  \\\n",
       "0           13.2                  0                 0                   0   \n",
       "1           17.2                  0                 0                   0   \n",
       "2           17.2                  0                 0                   0   \n",
       "3           18.0                  0                 0                   0   \n",
       "4           16.4                  1                 0                   0   \n",
       "\n",
       "   Manufacturer_Cadillac  ...  Manufacturer_Plymouth  Manufacturer_Pontiac  \\\n",
       "0                      0  ...                      0                     0   \n",
       "1                      0  ...                      0                     0   \n",
       "2                      0  ...                      0                     0   \n",
       "3                      0  ...                      0                     0   \n",
       "4                      0  ...                      0                     0   \n",
       "\n",
       "   Manufacturer_Porsche  Manufacturer_Saab  Manufacturer_Saturn  \\\n",
       "0                     0                  0                    0   \n",
       "1                     0                  0                    0   \n",
       "2                     0                  0                    0   \n",
       "3                     0                  0                    0   \n",
       "4                     0                  0                    0   \n",
       "\n",
       "   Manufacturer_Subaru  Manufacturer_Toyota  Manufacturer_Volkswagen  \\\n",
       "0                    0                    0                        0   \n",
       "1                    0                    0                        0   \n",
       "2                    0                    0                        0   \n",
       "3                    0                    0                        0   \n",
       "4                    0                    0                        0   \n",
       "\n",
       "   Manufacturer_Volvo  Vehicle_type_Passenger  \n",
       "0                   0                       1  \n",
       "1                   0                       1  \n",
       "2                   0                       1  \n",
       "3                   0                       1  \n",
       "4                   0                       1  \n",
       "\n",
       "[5 rows x 36 columns]"
      ]
     },
     "execution_count": 28,
     "metadata": {},
     "output_type": "execute_result"
    }
   ],
   "source": [
    "df2.head()"
   ]
  },
  {
   "cell_type": "code",
   "execution_count": null,
   "metadata": {},
   "outputs": [],
   "source": []
  },
  {
   "cell_type": "markdown",
   "metadata": {},
   "source": [
    "### Pre modelling"
   ]
  },
  {
   "cell_type": "markdown",
   "metadata": {},
   "source": [
    "### Assumptions of linear regression"
   ]
  },
  {
   "cell_type": "code",
   "execution_count": 29,
   "metadata": {},
   "outputs": [
    {
     "data": {
      "image/png": "[encoded data removed]",
      "text/plain": [
       "<Figure size 576x396 with 1 Axes>"
      ]
     },
     "metadata": {},
     "output_type": "display_data"
    }
   ],
   "source": [
    "sns.distplot(df2.Sales_in_thousands)\n",
    "plt.show()"
   ]
  },
  {
   "cell_type": "code",
   "execution_count": 30,
   "metadata": {},
   "outputs": [],
   "source": [
    "df2['ln_Sales_in_thousands'] = np.log(df2['Sales_in_thousands'])"
   ]
  },
  {
   "cell_type": "code",
   "execution_count": 31,
   "metadata": {},
   "outputs": [
    {
     "data": {
      "image/png": "[encoded data removed]",
      "text/plain": [
       "<Figure size 576x396 with 1 Axes>"
      ]
     },
     "metadata": {},
     "output_type": "display_data"
    }
   ],
   "source": [
    "sns.distplot(df2.ln_Sales_in_thousands)\n",
    "plt.show()"
   ]
  },
  {
   "cell_type": "code",
   "execution_count": 32,
   "metadata": {},
   "outputs": [
    {
     "name": "stdout",
     "output_type": "stream",
     "text": [
      "Index(['Sales_in_thousands', 'Price_in_thousands', 'Wheelbase', 'Width',\n",
      "       'Length', 'Fuel_capacity', 'Manufacturer_Audi', 'Manufacturer_BMW',\n",
      "       'Manufacturer_Buick', 'Manufacturer_Cadillac', 'Manufacturer_Chevrolet',\n",
      "       'Manufacturer_Chrysler', 'Manufacturer_Dodge', 'Manufacturer_Ford',\n",
      "       'Manufacturer_Honda', 'Manufacturer_Hyundai', 'Manufacturer_Infiniti',\n",
      "       'Manufacturer_Jaguar', 'Manufacturer_Jeep', 'Manufacturer_Lexus',\n",
      "       'Manufacturer_Lincoln', 'Manufacturer_Mercedes', 'Manufacturer_Mercury',\n",
      "       'Manufacturer_Mitsubishi', 'Manufacturer_Nissan',\n",
      "       'Manufacturer_Oldsmobile', 'Manufacturer_Plymouth',\n",
      "       'Manufacturer_Pontiac', 'Manufacturer_Porsche', 'Manufacturer_Saab',\n",
      "       'Manufacturer_Saturn', 'Manufacturer_Subaru', 'Manufacturer_Toyota',\n",
      "       'Manufacturer_Volkswagen', 'Manufacturer_Volvo',\n",
      "       'Vehicle_type_Passenger', 'ln_Sales_in_thousands'],\n",
      "      dtype='object')\n"
     ]
    }
   ],
   "source": [
    "print(df2.columns)"
   ]
  },
  {
   "cell_type": "markdown",
   "metadata": {},
   "source": [
    "## Feature Engineering\n",
    "### coefficient of variance(CV)"
   ]
  },
  {
   "cell_type": "code",
   "execution_count": 33,
   "metadata": {},
   "outputs": [
    {
     "data": {
      "text/plain": [
       "Sales_in_thousands          0.888413\n",
       "Price_in_thousands          1.940491\n",
       "Wheelbase                  14.361315\n",
       "Width                      20.701283\n",
       "Length                     13.891606\n",
       "Fuel_capacity               4.661747\n",
       "Manufacturer_Audi           0.139573\n",
       "Manufacturer_BMW            0.139573\n",
       "Manufacturer_Buick          0.161690\n",
       "Manufacturer_Cadillac       0.181369\n",
       "Manufacturer_Chevrolet      0.246598\n",
       "Manufacturer_Chrysler       0.216025\n",
       "Manufacturer_Dodge          0.274486\n",
       "Manufacturer_Ford           0.274486\n",
       "Manufacturer_Honda          0.181369\n",
       "Manufacturer_Hyundai        0.139573\n",
       "Manufacturer_Infiniti       0.080064\n",
       "Manufacturer_Jaguar         0.080064\n",
       "Manufacturer_Jeep           0.139573\n",
       "Manufacturer_Lexus          0.199337\n",
       "Manufacturer_Lincoln        0.139573\n",
       "Manufacturer_Mercedes       0.246598\n",
       "Manufacturer_Mercury        0.199337\n",
       "Manufacturer_Mitsubishi     0.216025\n",
       "Manufacturer_Nissan         0.216025\n",
       "Manufacturer_Oldsmobile     0.199337\n",
       "Manufacturer_Plymouth       0.161690\n",
       "Manufacturer_Pontiac        0.199337\n",
       "Manufacturer_Porsche        0.139573\n",
       "Manufacturer_Saab           0.113592\n",
       "Manufacturer_Saturn         0.181369\n",
       "Manufacturer_Subaru         0.113592\n",
       "Manufacturer_Toyota         0.246598\n",
       "Manufacturer_Volkswagen     0.199337\n",
       "Manufacturer_Volvo          0.199337\n",
       "Vehicle_type_Passenger      1.682043\n",
       "ln_Sales_in_thousands       2.630379\n",
       "dtype: float64"
      ]
     },
     "execution_count": 33,
     "metadata": {},
     "output_type": "execute_result"
    }
   ],
   "source": [
    "cv_vars = df2.apply(lambda x : np.mean(x)/np.std(x))\n",
    "cv_vars"
   ]
  },
  {
   "cell_type": "markdown",
   "metadata": {},
   "source": [
    "> All the cv values are greater than 0.05, so that there is no variable need to be dropped"
   ]
  },
  {
   "cell_type": "markdown",
   "metadata": {},
   "source": [
    "### RFE"
   ]
  },
  {
   "cell_type": "code",
   "execution_count": 34,
   "metadata": {},
   "outputs": [],
   "source": [
    "feature = df2[df2.columns.difference(['Sales_in_thousands', 'ln_Sales_in_thousands'])]\n",
    "target = df2['ln_Sales_in_thousands']"
   ]
  },
  {
   "cell_type": "code",
   "execution_count": 35,
   "metadata": {},
   "outputs": [],
   "source": [
    "rfe = RFE(RandomForestRegressor(), n_features_to_select=10).fit(feature,target)"
   ]
  },
  {
   "cell_type": "code",
   "execution_count": 36,
   "metadata": {},
   "outputs": [
    {
     "data": {
      "text/plain": [
       "Index(['Fuel_capacity', 'Length', 'Manufacturer_Ford',\n",
       "       'Manufacturer_Mitsubishi', 'Manufacturer_Oldsmobile',\n",
       "       'Manufacturer_Plymouth', 'Price_in_thousands', 'Vehicle_type_Passenger',\n",
       "       'Wheelbase', 'Width'],\n",
       "      dtype='object')"
      ]
     },
     "execution_count": 36,
     "metadata": {},
     "output_type": "execute_result"
    }
   ],
   "source": [
    "feature.columns[rfe.support_]"
   ]
  },
  {
   "cell_type": "markdown",
   "metadata": {},
   "source": [
    "### Seleck KBest"
   ]
  },
  {
   "cell_type": "code",
   "execution_count": 37,
   "metadata": {},
   "outputs": [],
   "source": [
    "skb = SelectKBest(f_oneway, k= 10).fit(feature,target)"
   ]
  },
  {
   "cell_type": "code",
   "execution_count": 38,
   "metadata": {},
   "outputs": [
    {
     "data": {
      "text/plain": [
       "Index(['Fuel_capacity', 'Length', 'Manufacturer_Infiniti',\n",
       "       'Manufacturer_Jaguar', 'Manufacturer_Lincoln', 'Manufacturer_Porsche',\n",
       "       'Manufacturer_Saab', 'Manufacturer_Subaru', 'Wheelbase', 'Width'],\n",
       "      dtype='object')"
      ]
     },
     "execution_count": 38,
     "metadata": {},
     "output_type": "execute_result"
    }
   ],
   "source": [
    "feature.columns[skb.get_support()]"
   ]
  },
  {
   "cell_type": "markdown",
   "metadata": {},
   "source": [
    "### F-Regressor"
   ]
  },
  {
   "cell_type": "code",
   "execution_count": 39,
   "metadata": {},
   "outputs": [],
   "source": [
    "F_value,P_value = f_regression(feature,target)"
   ]
  },
  {
   "cell_type": "code",
   "execution_count": 40,
   "metadata": {},
   "outputs": [
    {
     "data": {
      "text/plain": [
       "<itertools.zip_longest at 0x1ec47e114a8>"
      ]
     },
     "execution_count": 40,
     "metadata": {},
     "output_type": "execute_result"
    }
   ],
   "source": [
    "itertools.zip_longest(feature.columns, F_value, P_value)"
   ]
  },
  {
   "cell_type": "code",
   "execution_count": 41,
   "metadata": {},
   "outputs": [],
   "source": [
    "f_reg = [(i,v,z) for i,v,z in itertools.zip_longest(feature.columns, F_value, ['%.3f' %p for p in P_value])]"
   ]
  },
  {
   "cell_type": "code",
   "execution_count": 42,
   "metadata": {},
   "outputs": [
    {
     "data": {
      "text/html": [
       "<div>\n",
       "<style scoped>\n",
       "    .dataframe tbody tr th:only-of-type {\n",
       "        vertical-align: middle;\n",
       "    }\n",
       "\n",
       "    .dataframe tbody tr th {\n",
       "        vertical-align: top;\n",
       "    }\n",
       "\n",
       "    .dataframe thead th {\n",
       "        text-align: right;\n",
       "    }\n",
       "</style>\n",
       "<table border=\"1\" class=\"dataframe\">\n",
       "  <thead>\n",
       "    <tr style=\"text-align: right;\">\n",
       "      <th></th>\n",
       "      <th>feature</th>\n",
       "      <th>F_value</th>\n",
       "      <th>P_value</th>\n",
       "    </tr>\n",
       "  </thead>\n",
       "  <tbody>\n",
       "    <tr>\n",
       "      <th>31</th>\n",
       "      <td>Price_in_thousands</td>\n",
       "      <td>76.607843</td>\n",
       "      <td>0.000</td>\n",
       "    </tr>\n",
       "    <tr>\n",
       "      <th>9</th>\n",
       "      <td>Manufacturer_Ford</td>\n",
       "      <td>21.061447</td>\n",
       "      <td>0.000</td>\n",
       "    </tr>\n",
       "    <tr>\n",
       "      <th>24</th>\n",
       "      <td>Manufacturer_Porsche</td>\n",
       "      <td>10.653178</td>\n",
       "      <td>0.001</td>\n",
       "    </tr>\n",
       "    <tr>\n",
       "      <th>33</th>\n",
       "      <td>Wheelbase</td>\n",
       "      <td>11.306997</td>\n",
       "      <td>0.001</td>\n",
       "    </tr>\n",
       "    <tr>\n",
       "      <th>32</th>\n",
       "      <td>Vehicle_type_Passenger</td>\n",
       "      <td>12.462157</td>\n",
       "      <td>0.001</td>\n",
       "    </tr>\n",
       "    <tr>\n",
       "      <th>17</th>\n",
       "      <td>Manufacturer_Mercedes</td>\n",
       "      <td>9.878573</td>\n",
       "      <td>0.002</td>\n",
       "    </tr>\n",
       "    <tr>\n",
       "      <th>1</th>\n",
       "      <td>Length</td>\n",
       "      <td>5.853881</td>\n",
       "      <td>0.017</td>\n",
       "    </tr>\n",
       "    <tr>\n",
       "      <th>30</th>\n",
       "      <td>Manufacturer_Volvo</td>\n",
       "      <td>3.934501</td>\n",
       "      <td>0.049</td>\n",
       "    </tr>\n",
       "    <tr>\n",
       "      <th>10</th>\n",
       "      <td>Manufacturer_Honda</td>\n",
       "      <td>3.852349</td>\n",
       "      <td>0.051</td>\n",
       "    </tr>\n",
       "    <tr>\n",
       "      <th>28</th>\n",
       "      <td>Manufacturer_Toyota</td>\n",
       "      <td>3.417935</td>\n",
       "      <td>0.066</td>\n",
       "    </tr>\n",
       "    <tr>\n",
       "      <th>22</th>\n",
       "      <td>Manufacturer_Plymouth</td>\n",
       "      <td>2.971046</td>\n",
       "      <td>0.087</td>\n",
       "    </tr>\n",
       "    <tr>\n",
       "      <th>2</th>\n",
       "      <td>Manufacturer_Audi</td>\n",
       "      <td>2.874313</td>\n",
       "      <td>0.092</td>\n",
       "    </tr>\n",
       "    <tr>\n",
       "      <th>14</th>\n",
       "      <td>Manufacturer_Jeep</td>\n",
       "      <td>2.724204</td>\n",
       "      <td>0.101</td>\n",
       "    </tr>\n",
       "    <tr>\n",
       "      <th>15</th>\n",
       "      <td>Manufacturer_Lexus</td>\n",
       "      <td>2.648214</td>\n",
       "      <td>0.106</td>\n",
       "    </tr>\n",
       "    <tr>\n",
       "      <th>20</th>\n",
       "      <td>Manufacturer_Nissan</td>\n",
       "      <td>2.097272</td>\n",
       "      <td>0.150</td>\n",
       "    </tr>\n",
       "    <tr>\n",
       "      <th>19</th>\n",
       "      <td>Manufacturer_Mitsubishi</td>\n",
       "      <td>1.764003</td>\n",
       "      <td>0.186</td>\n",
       "    </tr>\n",
       "    <tr>\n",
       "      <th>23</th>\n",
       "      <td>Manufacturer_Pontiac</td>\n",
       "      <td>1.555669</td>\n",
       "      <td>0.214</td>\n",
       "    </tr>\n",
       "    <tr>\n",
       "      <th>6</th>\n",
       "      <td>Manufacturer_Chevrolet</td>\n",
       "      <td>1.509316</td>\n",
       "      <td>0.221</td>\n",
       "    </tr>\n",
       "    <tr>\n",
       "      <th>8</th>\n",
       "      <td>Manufacturer_Dodge</td>\n",
       "      <td>1.207264</td>\n",
       "      <td>0.274</td>\n",
       "    </tr>\n",
       "    <tr>\n",
       "      <th>4</th>\n",
       "      <td>Manufacturer_Buick</td>\n",
       "      <td>1.196073</td>\n",
       "      <td>0.276</td>\n",
       "    </tr>\n",
       "    <tr>\n",
       "      <th>25</th>\n",
       "      <td>Manufacturer_Saab</td>\n",
       "      <td>1.147946</td>\n",
       "      <td>0.286</td>\n",
       "    </tr>\n",
       "    <tr>\n",
       "      <th>5</th>\n",
       "      <td>Manufacturer_Cadillac</td>\n",
       "      <td>0.887999</td>\n",
       "      <td>0.347</td>\n",
       "    </tr>\n",
       "    <tr>\n",
       "      <th>21</th>\n",
       "      <td>Manufacturer_Oldsmobile</td>\n",
       "      <td>0.859196</td>\n",
       "      <td>0.355</td>\n",
       "    </tr>\n",
       "    <tr>\n",
       "      <th>3</th>\n",
       "      <td>Manufacturer_BMW</td>\n",
       "      <td>0.726643</td>\n",
       "      <td>0.395</td>\n",
       "    </tr>\n",
       "    <tr>\n",
       "      <th>11</th>\n",
       "      <td>Manufacturer_Hyundai</td>\n",
       "      <td>0.409934</td>\n",
       "      <td>0.523</td>\n",
       "    </tr>\n",
       "    <tr>\n",
       "      <th>13</th>\n",
       "      <td>Manufacturer_Jaguar</td>\n",
       "      <td>0.201879</td>\n",
       "      <td>0.654</td>\n",
       "    </tr>\n",
       "    <tr>\n",
       "      <th>26</th>\n",
       "      <td>Manufacturer_Saturn</td>\n",
       "      <td>0.196141</td>\n",
       "      <td>0.658</td>\n",
       "    </tr>\n",
       "    <tr>\n",
       "      <th>29</th>\n",
       "      <td>Manufacturer_Volkswagen</td>\n",
       "      <td>0.185193</td>\n",
       "      <td>0.668</td>\n",
       "    </tr>\n",
       "    <tr>\n",
       "      <th>27</th>\n",
       "      <td>Manufacturer_Subaru</td>\n",
       "      <td>0.173894</td>\n",
       "      <td>0.677</td>\n",
       "    </tr>\n",
       "    <tr>\n",
       "      <th>34</th>\n",
       "      <td>Width</td>\n",
       "      <td>0.149978</td>\n",
       "      <td>0.699</td>\n",
       "    </tr>\n",
       "    <tr>\n",
       "      <th>18</th>\n",
       "      <td>Manufacturer_Mercury</td>\n",
       "      <td>0.122425</td>\n",
       "      <td>0.727</td>\n",
       "    </tr>\n",
       "    <tr>\n",
       "      <th>0</th>\n",
       "      <td>Fuel_capacity</td>\n",
       "      <td>0.097900</td>\n",
       "      <td>0.755</td>\n",
       "    </tr>\n",
       "    <tr>\n",
       "      <th>7</th>\n",
       "      <td>Manufacturer_Chrysler</td>\n",
       "      <td>0.041308</td>\n",
       "      <td>0.839</td>\n",
       "    </tr>\n",
       "    <tr>\n",
       "      <th>16</th>\n",
       "      <td>Manufacturer_Lincoln</td>\n",
       "      <td>0.015174</td>\n",
       "      <td>0.902</td>\n",
       "    </tr>\n",
       "    <tr>\n",
       "      <th>12</th>\n",
       "      <td>Manufacturer_Infiniti</td>\n",
       "      <td>0.012097</td>\n",
       "      <td>0.913</td>\n",
       "    </tr>\n",
       "  </tbody>\n",
       "</table>\n",
       "</div>"
      ],
      "text/plain": [
       "                    feature    F_value P_value\n",
       "31       Price_in_thousands  76.607843   0.000\n",
       "9         Manufacturer_Ford  21.061447   0.000\n",
       "24     Manufacturer_Porsche  10.653178   0.001\n",
       "33                Wheelbase  11.306997   0.001\n",
       "32   Vehicle_type_Passenger  12.462157   0.001\n",
       "17    Manufacturer_Mercedes   9.878573   0.002\n",
       "1                    Length   5.853881   0.017\n",
       "30       Manufacturer_Volvo   3.934501   0.049\n",
       "10       Manufacturer_Honda   3.852349   0.051\n",
       "28      Manufacturer_Toyota   3.417935   0.066\n",
       "22    Manufacturer_Plymouth   2.971046   0.087\n",
       "2         Manufacturer_Audi   2.874313   0.092\n",
       "14        Manufacturer_Jeep   2.724204   0.101\n",
       "15       Manufacturer_Lexus   2.648214   0.106\n",
       "20      Manufacturer_Nissan   2.097272   0.150\n",
       "19  Manufacturer_Mitsubishi   1.764003   0.186\n",
       "23     Manufacturer_Pontiac   1.555669   0.214\n",
       "6    Manufacturer_Chevrolet   1.509316   0.221\n",
       "8        Manufacturer_Dodge   1.207264   0.274\n",
       "4        Manufacturer_Buick   1.196073   0.276\n",
       "25        Manufacturer_Saab   1.147946   0.286\n",
       "5     Manufacturer_Cadillac   0.887999   0.347\n",
       "21  Manufacturer_Oldsmobile   0.859196   0.355\n",
       "3          Manufacturer_BMW   0.726643   0.395\n",
       "11     Manufacturer_Hyundai   0.409934   0.523\n",
       "13      Manufacturer_Jaguar   0.201879   0.654\n",
       "26      Manufacturer_Saturn   0.196141   0.658\n",
       "29  Manufacturer_Volkswagen   0.185193   0.668\n",
       "27      Manufacturer_Subaru   0.173894   0.677\n",
       "34                    Width   0.149978   0.699\n",
       "18     Manufacturer_Mercury   0.122425   0.727\n",
       "0             Fuel_capacity   0.097900   0.755\n",
       "7     Manufacturer_Chrysler   0.041308   0.839\n",
       "16     Manufacturer_Lincoln   0.015174   0.902\n",
       "12    Manufacturer_Infiniti   0.012097   0.913"
      ]
     },
     "execution_count": 42,
     "metadata": {},
     "output_type": "execute_result"
    }
   ],
   "source": [
    "f_reg = pd.DataFrame(f_reg, columns=['feature', 'F_value', 'P_value'])\n",
    "f_reg.sort_values(by = 'P_value', ascending = True)"
   ]
  },
  {
   "cell_type": "code",
   "execution_count": 43,
   "metadata": {},
   "outputs": [
    {
     "data": {
      "text/plain": [
       "array(['Length', 'Manufacturer_Ford', 'Manufacturer_Mercedes',\n",
       "       'Manufacturer_Porsche', 'Manufacturer_Volvo', 'Price_in_thousands',\n",
       "       'Vehicle_type_Passenger', 'Wheelbase'], dtype=object)"
      ]
     },
     "execution_count": 43,
     "metadata": {},
     "output_type": "execute_result"
    }
   ],
   "source": [
    "f_reg[P_value <= 0.05].feature.values"
   ]
  },
  {
   "cell_type": "markdown",
   "metadata": {},
   "source": [
    " > Remove the columns which are having high pvalue (ie pvalue > 0.05)"
   ]
  },
  {
   "cell_type": "code",
   "execution_count": 77,
   "metadata": {},
   "outputs": [],
   "source": [
    "### From the above feature engineerings steps take only the unique columns\n",
    "final_list = ['Fuel_capacity', \n",
    "              'Length',\n",
    "              'Manufacturer_Ford',\n",
    "              'Manufacturer_Honda',\n",
    "              'Manufacturer_Mitsubishi',\n",
    "              'Manufacturer_Oldsmobile',\n",
    "              'Manufacturer_Plymouth',\n",
    "              'Price_in_thousands', \n",
    "              'Wheelbase', \n",
    "              'Width',\n",
    "              'Manufacturer_Infiniti',\n",
    "              'Manufacturer_Jaguar', \n",
    "              'Manufacturer_Lincoln', \n",
    "              'Manufacturer_Porsche',\n",
    "              'Manufacturer_Saab', \n",
    "              'Manufacturer_Subaru',\n",
    "              'Manufacturer_Mercedes',\n",
    "              'Vehicle_type_Passenger', \n",
    "              'Manufacturer_Volvo',\n",
    "            ]\n",
    "\n",
    "x = feature[final_list]"
   ]
  },
  {
   "cell_type": "markdown",
   "metadata": {},
   "source": [
    "### VIF"
   ]
  },
  {
   "cell_type": "code",
   "execution_count": 78,
   "metadata": {},
   "outputs": [
    {
     "data": {
      "text/html": [
       "<div>\n",
       "<style scoped>\n",
       "    .dataframe tbody tr th:only-of-type {\n",
       "        vertical-align: middle;\n",
       "    }\n",
       "\n",
       "    .dataframe tbody tr th {\n",
       "        vertical-align: top;\n",
       "    }\n",
       "\n",
       "    .dataframe thead th {\n",
       "        text-align: right;\n",
       "    }\n",
       "</style>\n",
       "<table border=\"1\" class=\"dataframe\">\n",
       "  <thead>\n",
       "    <tr style=\"text-align: right;\">\n",
       "      <th></th>\n",
       "      <th>vif_factor</th>\n",
       "      <th>features</th>\n",
       "    </tr>\n",
       "  </thead>\n",
       "  <tbody>\n",
       "    <tr>\n",
       "      <th>8</th>\n",
       "      <td>1230.802017</td>\n",
       "      <td>Wheelbase</td>\n",
       "    </tr>\n",
       "    <tr>\n",
       "      <th>1</th>\n",
       "      <td>1205.328037</td>\n",
       "      <td>Length</td>\n",
       "    </tr>\n",
       "    <tr>\n",
       "      <th>9</th>\n",
       "      <td>583.768640</td>\n",
       "      <td>Width</td>\n",
       "    </tr>\n",
       "    <tr>\n",
       "      <th>0</th>\n",
       "      <td>94.811261</td>\n",
       "      <td>Fuel_capacity</td>\n",
       "    </tr>\n",
       "    <tr>\n",
       "      <th>7</th>\n",
       "      <td>12.315122</td>\n",
       "      <td>Price_in_thousands</td>\n",
       "    </tr>\n",
       "    <tr>\n",
       "      <th>17</th>\n",
       "      <td>10.168745</td>\n",
       "      <td>Vehicle_type_Passenger</td>\n",
       "    </tr>\n",
       "    <tr>\n",
       "      <th>16</th>\n",
       "      <td>1.636037</td>\n",
       "      <td>Manufacturer_Mercedes</td>\n",
       "    </tr>\n",
       "    <tr>\n",
       "      <th>13</th>\n",
       "      <td>1.396574</td>\n",
       "      <td>Manufacturer_Porsche</td>\n",
       "    </tr>\n",
       "    <tr>\n",
       "      <th>6</th>\n",
       "      <td>1.264929</td>\n",
       "      <td>Manufacturer_Plymouth</td>\n",
       "    </tr>\n",
       "    <tr>\n",
       "      <th>2</th>\n",
       "      <td>1.161471</td>\n",
       "      <td>Manufacturer_Ford</td>\n",
       "    </tr>\n",
       "    <tr>\n",
       "      <th>12</th>\n",
       "      <td>1.121310</td>\n",
       "      <td>Manufacturer_Lincoln</td>\n",
       "    </tr>\n",
       "    <tr>\n",
       "      <th>18</th>\n",
       "      <td>1.105877</td>\n",
       "      <td>Manufacturer_Volvo</td>\n",
       "    </tr>\n",
       "    <tr>\n",
       "      <th>3</th>\n",
       "      <td>1.100088</td>\n",
       "      <td>Manufacturer_Honda</td>\n",
       "    </tr>\n",
       "    <tr>\n",
       "      <th>4</th>\n",
       "      <td>1.098945</td>\n",
       "      <td>Manufacturer_Mitsubishi</td>\n",
       "    </tr>\n",
       "    <tr>\n",
       "      <th>5</th>\n",
       "      <td>1.086989</td>\n",
       "      <td>Manufacturer_Oldsmobile</td>\n",
       "    </tr>\n",
       "    <tr>\n",
       "      <th>11</th>\n",
       "      <td>1.067540</td>\n",
       "      <td>Manufacturer_Jaguar</td>\n",
       "    </tr>\n",
       "    <tr>\n",
       "      <th>15</th>\n",
       "      <td>1.038754</td>\n",
       "      <td>Manufacturer_Subaru</td>\n",
       "    </tr>\n",
       "    <tr>\n",
       "      <th>14</th>\n",
       "      <td>1.034134</td>\n",
       "      <td>Manufacturer_Saab</td>\n",
       "    </tr>\n",
       "    <tr>\n",
       "      <th>10</th>\n",
       "      <td>1.022061</td>\n",
       "      <td>Manufacturer_Infiniti</td>\n",
       "    </tr>\n",
       "  </tbody>\n",
       "</table>\n",
       "</div>"
      ],
      "text/plain": [
       "     vif_factor                 features\n",
       "8   1230.802017                Wheelbase\n",
       "1   1205.328037                   Length\n",
       "9    583.768640                    Width\n",
       "0     94.811261            Fuel_capacity\n",
       "7     12.315122       Price_in_thousands\n",
       "17    10.168745   Vehicle_type_Passenger\n",
       "16     1.636037    Manufacturer_Mercedes\n",
       "13     1.396574     Manufacturer_Porsche\n",
       "6      1.264929    Manufacturer_Plymouth\n",
       "2      1.161471        Manufacturer_Ford\n",
       "12     1.121310     Manufacturer_Lincoln\n",
       "18     1.105877       Manufacturer_Volvo\n",
       "3      1.100088       Manufacturer_Honda\n",
       "4      1.098945  Manufacturer_Mitsubishi\n",
       "5      1.086989  Manufacturer_Oldsmobile\n",
       "11     1.067540      Manufacturer_Jaguar\n",
       "15     1.038754      Manufacturer_Subaru\n",
       "14     1.034134        Manufacturer_Saab\n",
       "10     1.022061    Manufacturer_Infiniti"
      ]
     },
     "execution_count": 78,
     "metadata": {},
     "output_type": "execute_result"
    }
   ],
   "source": [
    "vif = pd.DataFrame()\n",
    "vif['vif_factor'] = [variance_inflation_factor(x.values,i) for i in range(x.shape[1])]\n",
    "vif['features'] = x.columns\n",
    "vif.sort_values(by = 'vif_factor', ascending = False)"
   ]
  },
  {
   "cell_type": "markdown",
   "metadata": {},
   "source": [
    "### model building"
   ]
  },
  {
   "cell_type": "code",
   "execution_count": 79,
   "metadata": {},
   "outputs": [],
   "source": [
    "train,test = train_test_split(df2, test_size = 0.3, random_state = 123)"
   ]
  },
  {
   "cell_type": "code",
   "execution_count": 80,
   "metadata": {},
   "outputs": [
    {
     "data": {
      "text/plain": [
       "(109, 37)"
      ]
     },
     "execution_count": 80,
     "metadata": {},
     "output_type": "execute_result"
    }
   ],
   "source": [
    "train.shape"
   ]
  },
  {
   "cell_type": "code",
   "execution_count": 81,
   "metadata": {},
   "outputs": [
    {
     "data": {
      "text/plain": [
       "(48, 37)"
      ]
     },
     "execution_count": 81,
     "metadata": {},
     "output_type": "execute_result"
    }
   ],
   "source": [
    "test.shape"
   ]
  },
  {
   "cell_type": "code",
   "execution_count": 82,
   "metadata": {},
   "outputs": [
    {
     "data": {
      "text/plain": [
       "'ln_Sales_in_thousands~Fuel_capacity+Length+Manufacturer_Ford+Manufacturer_Honda+Manufacturer_Mitsubishi+Manufacturer_Oldsmobile+Manufacturer_Plymouth+Price_in_thousands+Wheelbase+Width+Manufacturer_Infiniti+Manufacturer_Jaguar+Manufacturer_Lincoln+Manufacturer_Porsche+Manufacturer_Saab+Manufacturer_Subaru+Manufacturer_Mercedes+Vehicle_type_Passenger+Manufacturer_Volvo'"
      ]
     },
     "execution_count": 82,
     "metadata": {},
     "output_type": "execute_result"
    }
   ],
   "source": [
    "formula = 'ln_Sales_in_thousands~'+ '+'.join(x)\n",
    "formula"
   ]
  },
  {
   "cell_type": "code",
   "execution_count": 87,
   "metadata": {},
   "outputs": [],
   "source": [
    "ols = smf.ols(formula='ln_Sales_in_thousands~Manufacturer_Ford+Manufacturer_Honda+Manufacturer_Mitsubishi+Manufacturer_Plymouth+Price_in_thousands+Vehicle_type_Passenger+Manufacturer_Volvo'\n",
    ", data = train).fit()"
   ]
  },
  {
   "cell_type": "code",
   "execution_count": 88,
   "metadata": {},
   "outputs": [
    {
     "name": "stdout",
     "output_type": "stream",
     "text": [
      "                              OLS Regression Results                             \n",
      "=================================================================================\n",
      "Dep. Variable:     ln_Sales_in_thousands   R-squared:                       0.607\n",
      "Model:                               OLS   Adj. R-squared:                  0.580\n",
      "Method:                    Least Squares   F-statistic:                     22.31\n",
      "Date:                   Fri, 19 Jun 2020   Prob (F-statistic):           5.62e-18\n",
      "Time:                           21:36:40   Log-Likelihood:                -131.51\n",
      "No. Observations:                    109   AIC:                             279.0\n",
      "Df Residuals:                        101   BIC:                             300.6\n",
      "Df Model:                              7                                         \n",
      "Covariance Type:               nonrobust                                         \n",
      "===========================================================================================\n",
      "                              coef    std err          t      P>|t|      [0.025      0.975]\n",
      "-------------------------------------------------------------------------------------------\n",
      "Intercept                   5.2862      0.232     22.817      0.000       4.827       5.746\n",
      "Manufacturer_Ford           1.0532      0.286      3.684      0.000       0.486       1.620\n",
      "Manufacturer_Honda          1.4774      0.610      2.420      0.017       0.266       2.688\n",
      "Manufacturer_Mitsubishi    -0.9944      0.333     -2.984      0.004      -1.655      -0.333\n",
      "Manufacturer_Plymouth      -1.8112      0.851     -2.129      0.036      -3.499      -0.124\n",
      "Price_in_thousands         -0.0503      0.006     -8.425      0.000      -0.062      -0.038\n",
      "Vehicle_type_Passenger     -0.6837      0.184     -3.715      0.000      -1.049      -0.319\n",
      "Manufacturer_Volvo         -0.7326      0.359     -2.040      0.044      -1.445      -0.020\n",
      "==============================================================================\n",
      "Omnibus:                        6.577   Durbin-Watson:                   1.857\n",
      "Prob(Omnibus):                  0.037   Jarque-Bera (JB):                6.035\n",
      "Skew:                          -0.520   Prob(JB):                       0.0489\n",
      "Kurtosis:                       3.499   Cond. No.                         330.\n",
      "==============================================================================\n",
      "\n",
      "Warnings:\n",
      "[1] Standard Errors assume that the covariance matrix of the errors is correctly specified.\n"
     ]
    }
   ],
   "source": [
    "print(ols.summary())"
   ]
  },
  {
   "cell_type": "markdown",
   "metadata": {},
   "source": [
    "> Remove the variables having high p-value(0.05) and regenerate the model"
   ]
  },
  {
   "cell_type": "markdown",
   "metadata": {},
   "source": [
    "Equation(y=mx+c)\n",
    "y(sales_in_thousand) = 0.0661(fuel_efficiency)+ 0.0307(length)+ 0.9714(manufacturer_ford)- 0.0488(Price_in_thousand)\n",
    "                            -1.0263(Vehicle_type_Passenger)-1.9430"
   ]
  },
  {
   "cell_type": "markdown",
   "metadata": {},
   "source": [
    "### post modelling"
   ]
  },
  {
   "cell_type": "code",
   "execution_count": 52,
   "metadata": {},
   "outputs": [],
   "source": [
    "train_predicted = np.exp(ols.predict(train))\n",
    "test_predicted = np.exp(ols.predict(test))"
   ]
  },
  {
   "cell_type": "code",
   "execution_count": 53,
   "metadata": {},
   "outputs": [],
   "source": [
    "train_actual = np.exp(train.ln_Sales_in_thousands)\n",
    "test_actual = np.exp(test.ln_Sales_in_thousands)"
   ]
  },
  {
   "cell_type": "code",
   "execution_count": 54,
   "metadata": {},
   "outputs": [
    {
     "name": "stdout",
     "output_type": "stream",
     "text": [
      "43.14811127252909\n",
      "66.12650746776002\n"
     ]
    }
   ],
   "source": [
    "train_rmse = np.sqrt(np.mean(np.square(train_actual - train_predicted)))\n",
    "test_rmse = np.sqrt(np.mean(np.square(test_actual - test_predicted)))\n",
    "print(train_rmse)\n",
    "print(test_rmse)"
   ]
  },
  {
   "cell_type": "code",
   "execution_count": 55,
   "metadata": {},
   "outputs": [
    {
     "name": "stdout",
     "output_type": "stream",
     "text": [
      "55.341677016942995\n",
      "38.39479196253749\n"
     ]
    }
   ],
   "source": [
    "train_mape = np.mean(np.abs(train_actual - train_predicted/train_actual))\n",
    "test_mape = np.mean(np.abs(test_actual - test_predicted/test_actual))\n",
    "print(train_mape)\n",
    "print(test_mape)"
   ]
  },
  {
   "cell_type": "code",
   "execution_count": 56,
   "metadata": {},
   "outputs": [
    {
     "data": {
      "text/plain": [
       "array([[1.        , 0.73236186],\n",
       "       [0.73236186, 1.        ]])"
      ]
     },
     "execution_count": 56,
     "metadata": {},
     "output_type": "execute_result"
    }
   ],
   "source": [
    "np.corrcoef(train_actual, train_predicted)"
   ]
  },
  {
   "cell_type": "code",
   "execution_count": 57,
   "metadata": {
    "scrolled": true
   },
   "outputs": [
    {
     "data": {
      "text/plain": [
       "array([[1.        , 0.28694472],\n",
       "       [0.28694472, 1.        ]])"
      ]
     },
     "execution_count": 57,
     "metadata": {},
     "output_type": "execute_result"
    }
   ],
   "source": [
    "np.corrcoef(test_actual, test_predicted)"
   ]
  },
  {
   "cell_type": "markdown",
   "metadata": {},
   "source": [
    "### assumptions for errors"
   ]
  },
  {
   "cell_type": "code",
   "execution_count": 58,
   "metadata": {},
   "outputs": [],
   "source": [
    "\n",
    "train_errors = train_actual - train_predicted\n",
    "test_errors = test_actual - test_predicted"
   ]
  },
  {
   "cell_type": "code",
   "execution_count": 59,
   "metadata": {},
   "outputs": [
    {
     "data": {
      "text/plain": [
       "<matplotlib.axes._subplots.AxesSubplot at 0x1ec4a59b248>"
      ]
     },
     "execution_count": 59,
     "metadata": {},
     "output_type": "execute_result"
    },
    {
     "data": {
      "image/png": "[encoded data removed]",
      "text/plain": [
       "<Figure size 576x396 with 1 Axes>"
      ]
     },
     "metadata": {},
     "output_type": "display_data"
    }
   ],
   "source": [
    "sns.distplot(train_errors)"
   ]
  },
  {
   "cell_type": "code",
   "execution_count": 60,
   "metadata": {
    "scrolled": false
   },
   "outputs": [
    {
     "data": {
      "text/plain": [
       "<matplotlib.axes._subplots.AxesSubplot at 0x1ec4a627c08>"
      ]
     },
     "execution_count": 60,
     "metadata": {},
     "output_type": "execute_result"
    },
    {
     "data": {
      "image/png": "[encoded data removed]",
      "text/plain": [
       "<Figure size 576x396 with 1 Axes>"
      ]
     },
     "metadata": {},
     "output_type": "display_data"
    }
   ],
   "source": [
    "sns.distplot(test_errors)"
   ]
  },
  {
   "cell_type": "code",
   "execution_count": 61,
   "metadata": {},
   "outputs": [
    {
     "data": {
      "text/plain": [
       "array([[1.        , 0.63201415],\n",
       "       [0.63201415, 1.        ]])"
      ]
     },
     "execution_count": 61,
     "metadata": {},
     "output_type": "execute_result"
    }
   ],
   "source": [
    "np.corrcoef(train_actual, train_errors)"
   ]
  },
  {
   "cell_type": "markdown",
   "metadata": {},
   "source": [
    "### Decile Analysis"
   ]
  },
  {
   "cell_type": "code",
   "execution_count": 62,
   "metadata": {},
   "outputs": [],
   "source": [
    "train_result = pd.concat([train_actual, train_predicted],axis = 1)\n",
    "test_result = pd.concat([test_actual, test_predicted],axis = 1)"
   ]
  },
  {
   "cell_type": "code",
   "execution_count": 63,
   "metadata": {},
   "outputs": [],
   "source": [
    "train_result.columns = ['actual', 'pred']\n",
    "test_result.columns = ['actual', 'pred']"
   ]
  },
  {
   "cell_type": "code",
   "execution_count": 64,
   "metadata": {},
   "outputs": [],
   "source": [
    "train_result['Deciles'] = pd.qcut(train_result['pred'],10, labels=False)\n",
    "test_result['Deciles']=pd.qcut(test_result['pred'],10, labels=False)"
   ]
  },
  {
   "cell_type": "code",
   "execution_count": 65,
   "metadata": {},
   "outputs": [
    {
     "data": {
      "text/html": [
       "<div>\n",
       "<style scoped>\n",
       "    .dataframe tbody tr th:only-of-type {\n",
       "        vertical-align: middle;\n",
       "    }\n",
       "\n",
       "    .dataframe tbody tr th {\n",
       "        vertical-align: top;\n",
       "    }\n",
       "\n",
       "    .dataframe thead th {\n",
       "        text-align: right;\n",
       "    }\n",
       "</style>\n",
       "<table border=\"1\" class=\"dataframe\">\n",
       "  <thead>\n",
       "    <tr style=\"text-align: right;\">\n",
       "      <th></th>\n",
       "      <th>actual</th>\n",
       "      <th>pred</th>\n",
       "    </tr>\n",
       "    <tr>\n",
       "      <th>Deciles</th>\n",
       "      <th></th>\n",
       "      <th></th>\n",
       "    </tr>\n",
       "  </thead>\n",
       "  <tbody>\n",
       "    <tr>\n",
       "      <th>0</th>\n",
       "      <td>7.378142</td>\n",
       "      <td>4.916072</td>\n",
       "    </tr>\n",
       "    <tr>\n",
       "      <th>1</th>\n",
       "      <td>19.384091</td>\n",
       "      <td>11.817518</td>\n",
       "    </tr>\n",
       "    <tr>\n",
       "      <th>2</th>\n",
       "      <td>18.776545</td>\n",
       "      <td>14.618334</td>\n",
       "    </tr>\n",
       "    <tr>\n",
       "      <th>3</th>\n",
       "      <td>24.393818</td>\n",
       "      <td>21.493639</td>\n",
       "    </tr>\n",
       "    <tr>\n",
       "      <th>4</th>\n",
       "      <td>53.285909</td>\n",
       "      <td>30.805342</td>\n",
       "    </tr>\n",
       "    <tr>\n",
       "      <th>5</th>\n",
       "      <td>53.193000</td>\n",
       "      <td>37.437628</td>\n",
       "    </tr>\n",
       "    <tr>\n",
       "      <th>6</th>\n",
       "      <td>45.567545</td>\n",
       "      <td>47.336012</td>\n",
       "    </tr>\n",
       "    <tr>\n",
       "      <th>7</th>\n",
       "      <td>70.277182</td>\n",
       "      <td>56.076111</td>\n",
       "    </tr>\n",
       "    <tr>\n",
       "      <th>8</th>\n",
       "      <td>97.867273</td>\n",
       "      <td>78.190847</td>\n",
       "    </tr>\n",
       "    <tr>\n",
       "      <th>9</th>\n",
       "      <td>172.433058</td>\n",
       "      <td>159.362317</td>\n",
       "    </tr>\n",
       "  </tbody>\n",
       "</table>\n",
       "</div>"
      ],
      "text/plain": [
       "             actual        pred\n",
       "Deciles                        \n",
       "0          7.378142    4.916072\n",
       "1         19.384091   11.817518\n",
       "2         18.776545   14.618334\n",
       "3         24.393818   21.493639\n",
       "4         53.285909   30.805342\n",
       "5         53.193000   37.437628\n",
       "6         45.567545   47.336012\n",
       "7         70.277182   56.076111\n",
       "8         97.867273   78.190847\n",
       "9        172.433058  159.362317"
      ]
     },
     "execution_count": 65,
     "metadata": {},
     "output_type": "execute_result"
    }
   ],
   "source": [
    "train_result.groupby('Deciles')[['actual','pred']].mean()"
   ]
  },
  {
   "cell_type": "code",
   "execution_count": 66,
   "metadata": {},
   "outputs": [
    {
     "data": {
      "text/html": [
       "<div>\n",
       "<style scoped>\n",
       "    .dataframe tbody tr th:only-of-type {\n",
       "        vertical-align: middle;\n",
       "    }\n",
       "\n",
       "    .dataframe tbody tr th {\n",
       "        vertical-align: top;\n",
       "    }\n",
       "\n",
       "    .dataframe thead th {\n",
       "        text-align: right;\n",
       "    }\n",
       "</style>\n",
       "<table border=\"1\" class=\"dataframe\">\n",
       "  <thead>\n",
       "    <tr style=\"text-align: right;\">\n",
       "      <th></th>\n",
       "      <th>actual</th>\n",
       "      <th>pred</th>\n",
       "    </tr>\n",
       "    <tr>\n",
       "      <th>Deciles</th>\n",
       "      <th></th>\n",
       "      <th></th>\n",
       "    </tr>\n",
       "  </thead>\n",
       "  <tbody>\n",
       "    <tr>\n",
       "      <th>0</th>\n",
       "      <td>10.33820</td>\n",
       "      <td>6.041609</td>\n",
       "    </tr>\n",
       "    <tr>\n",
       "      <th>1</th>\n",
       "      <td>14.15040</td>\n",
       "      <td>12.760834</td>\n",
       "    </tr>\n",
       "    <tr>\n",
       "      <th>2</th>\n",
       "      <td>29.02780</td>\n",
       "      <td>22.035351</td>\n",
       "    </tr>\n",
       "    <tr>\n",
       "      <th>3</th>\n",
       "      <td>33.78525</td>\n",
       "      <td>28.186192</td>\n",
       "    </tr>\n",
       "    <tr>\n",
       "      <th>4</th>\n",
       "      <td>49.59460</td>\n",
       "      <td>32.996146</td>\n",
       "    </tr>\n",
       "    <tr>\n",
       "      <th>5</th>\n",
       "      <td>33.85420</td>\n",
       "      <td>38.331149</td>\n",
       "    </tr>\n",
       "    <tr>\n",
       "      <th>6</th>\n",
       "      <td>77.22600</td>\n",
       "      <td>41.836694</td>\n",
       "    </tr>\n",
       "    <tr>\n",
       "      <th>7</th>\n",
       "      <td>50.34680</td>\n",
       "      <td>46.764773</td>\n",
       "    </tr>\n",
       "    <tr>\n",
       "      <th>8</th>\n",
       "      <td>27.72820</td>\n",
       "      <td>68.442717</td>\n",
       "    </tr>\n",
       "    <tr>\n",
       "      <th>9</th>\n",
       "      <td>74.27080</td>\n",
       "      <td>211.478273</td>\n",
       "    </tr>\n",
       "  </tbody>\n",
       "</table>\n",
       "</div>"
      ],
      "text/plain": [
       "           actual        pred\n",
       "Deciles                      \n",
       "0        10.33820    6.041609\n",
       "1        14.15040   12.760834\n",
       "2        29.02780   22.035351\n",
       "3        33.78525   28.186192\n",
       "4        49.59460   32.996146\n",
       "5        33.85420   38.331149\n",
       "6        77.22600   41.836694\n",
       "7        50.34680   46.764773\n",
       "8        27.72820   68.442717\n",
       "9        74.27080  211.478273"
      ]
     },
     "execution_count": 66,
     "metadata": {},
     "output_type": "execute_result"
    }
   ],
   "source": [
    "test_result.groupby('Deciles')[['actual','pred']].mean()"
   ]
  },
  {
   "cell_type": "code",
   "execution_count": null,
   "metadata": {},
   "outputs": [],
   "source": []
  }
 ],
 "metadata": {
  "kernelspec": {
   "display_name": "Python 3",
   "language": "python",
   "name": "python3"
  },
  "language_info": {
   "codemirror_mode": {
    "name": "ipython",
    "version": 3
   },
   "file_extension": ".py",
   "mimetype": "text/x-python",
   "name": "python",
   "nbconvert_exporter": "python",
   "pygments_lexer": "ipython3",
   "version": "3.7.6"
  }
 },
 "nbformat": 4,
 "nbformat_minor": 4
}
